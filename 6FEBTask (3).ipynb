{
 "cells": [
  {
   "cell_type": "code",
   "execution_count": 6,
   "id": "ac7be4e0-ed95-4d7d-aa1e-1e04fd589231",
   "metadata": {},
   "outputs": [],
   "source": [
    "## Q1"
   ]
  },
  {
   "cell_type": "code",
   "execution_count": 7,
   "id": "f00d249e-e667-479b-9013-1e05f6d3dd6b",
   "metadata": {},
   "outputs": [],
   "source": [
    "list1=[1,2,3,4,[44,55,66,True],False,(34,56,78,89,34),{1,2,3,3,2,1},{1:34,\"key2\":[55,67,78,89],4:(45,22,61,34)},[56,\"data Science\"],'Machine Learning']"
   ]
  },
  {
   "cell_type": "code",
   "execution_count": null,
   "id": "8f9e1edc-1cfd-491b-892c-4dace04c8e99",
   "metadata": {},
   "outputs": [],
   "source": []
  },
  {
   "cell_type": "code",
   "execution_count": 8,
   "id": "25952ba6-03e0-448e-a10b-bc3fcdfb706f",
   "metadata": {},
   "outputs": [],
   "source": [
    "def test(l):\n",
    "    lst=[]\n",
    "    for i in l:\n",
    "        if type(i)==int:\n",
    "            lst.append(i)\n",
    "        elif type(i)==list or type(i)==tuple or type(i)==set:\n",
    "            for j in i:\n",
    "                if type(j)==int:\n",
    "                    lst.append(j)\n",
    "        elif type(i)==dict:\n",
    "            for j in i.keys():\n",
    "                if type(j)==int:\n",
    "                    lst.append(j)\n",
    "                \n",
    "            for k in i.values():\n",
    "                if type(k)==int:\n",
    "                    lst.append(k)\n",
    "                elif type(k)==list or type(k)==tuple:\n",
    "                    for j in k:\n",
    "                        if type(j)==int:\n",
    "                            lst.append(j)\n",
    "                            \n",
    "    print(lst)\n",
    "    product=1\n",
    "    for i in lst:\n",
    "        product=product*i\n",
    "    print(product)"
   ]
  },
  {
   "cell_type": "code",
   "execution_count": 9,
   "id": "30dd75ad-d0f5-4628-b65d-012e8d3ae670",
   "metadata": {},
   "outputs": [
    {
     "name": "stdout",
     "output_type": "stream",
     "text": [
      "[1, 2, 3, 4, 44, 55, 66, 34, 56, 78, 89, 34, 1, 2, 3, 1, 4, 34, 55, 67, 78, 89, 45, 22, 61, 34, 56]\n",
      "4134711838987085478833841242112000\n"
     ]
    }
   ],
   "source": [
    "test(list1)"
   ]
  },
  {
   "cell_type": "markdown",
   "id": "912561e8-2c52-48af-a172-509956024a27",
   "metadata": {},
   "source": [
    "## Q2"
   ]
  },
  {
   "cell_type": "code",
   "execution_count": 10,
   "id": "0dd820eb-9b54-4956-b2be-762621cb7b59",
   "metadata": {},
   "outputs": [
    {
     "name": "stdout",
     "output_type": "stream",
     "text": [
      "r$dzmg$gl$yvxlnv$wzgz$hxrvmgrhg\n"
     ]
    }
   ],
   "source": [
    "n=\"I want to become Data Scientist\"\n",
    "n=n.lower()\n",
    "n=n.replace(' ','$')\n",
    "alph=\"abcdefghijklmnopqrstuvwxyz\"\n",
    "str=''\n",
    "for i in n:\n",
    "    a=alph.index(i)\n",
    "    b=alph[-(a+1)]\n",
    "    str=str+b\n",
    "print(str)"
   ]
  },
  {
   "cell_type": "code",
   "execution_count": null,
   "id": "ac369f82-094e-46b9-a905-08b5c075d9fa",
   "metadata": {},
   "outputs": [],
   "source": []
  }
 ],
 "metadata": {
  "kernelspec": {
   "display_name": "Python 3 (ipykernel)",
   "language": "python",
   "name": "python3"
  },
  "language_info": {
   "codemirror_mode": {
    "name": "ipython",
    "version": 3
   },
   "file_extension": ".py",
   "mimetype": "text/x-python",
   "name": "python",
   "nbconvert_exporter": "python",
   "pygments_lexer": "ipython3",
   "version": "3.10.8"
  }
 },
 "nbformat": 4,
 "nbformat_minor": 5
}
