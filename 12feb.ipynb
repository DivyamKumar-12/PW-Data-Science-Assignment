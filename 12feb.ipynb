{
 "cells": [
  {
   "cell_type": "markdown",
   "id": "8af95ab1-4514-4a8c-ad89-63a5cc38450e",
   "metadata": {},
   "source": [
    "## Q1"
   ]
  },
  {
   "cell_type": "markdown",
   "id": "903308c1-80b0-4a81-850a-037e374d3241",
   "metadata": {},
   "source": [
    "An Exception in Python is an error that occurs during the execution of a Python program due to unexpected conditions or invalid operations. It is an event that interrupts the normal flow of the program and requires special handling to avoid a program crash.\n",
    "\n",
    "When an Exception occurs, Python raises an object of the Exception class, which contains information about the error such as the type of error, the line number where the error occurred, and a message that describes the error. This object can be caught and handled by the program using exception handling techniques such as try-except blocks.\n",
    "\n",
    "On the other hand, Syntax errors are another type of error that can occur in Python. These errors occur when the Python interpreter is unable to parse or understand the syntax of the code being executed. Syntax errors are usually detected during the compilation or parsing stage of the program, before the program is executed. Common examples of syntax errors include missing colons, invalid indentation, or mismatched parentheses."
   ]
  },
  {
   "cell_type": "markdown",
   "id": "0ed77403-c43e-4a75-b83a-3c9dce604b52",
   "metadata": {},
   "source": [
    "## Q2"
   ]
  },
  {
   "cell_type": "markdown",
   "id": "a8ac68ad-eeb6-493a-ba59-e0839381c707",
   "metadata": {},
   "source": [
    "When an Exception is not handled in a Python program, it results in a program crash, and an error message is displayed on the console, indicating the type of error that occurred and the line number where the error occurred. This can make the program unstable and prevent it from functioning properly."
   ]
  },
  {
   "cell_type": "code",
   "execution_count": 1,
   "id": "846e7781-c4ea-4d41-ab81-11397763ec9e",
   "metadata": {},
   "outputs": [
    {
     "ename": "ZeroDivisionError",
     "evalue": "division by zero",
     "output_type": "error",
     "traceback": [
      "\u001b[0;31m---------------------------------------------------------------------------\u001b[0m",
      "\u001b[0;31mZeroDivisionError\u001b[0m                         Traceback (most recent call last)",
      "Cell \u001b[0;32mIn[1], line 3\u001b[0m\n\u001b[1;32m      1\u001b[0m x \u001b[38;5;241m=\u001b[39m \u001b[38;5;241m10\u001b[39m\n\u001b[1;32m      2\u001b[0m y \u001b[38;5;241m=\u001b[39m \u001b[38;5;241m0\u001b[39m\n\u001b[0;32m----> 3\u001b[0m z \u001b[38;5;241m=\u001b[39m \u001b[43mx\u001b[49m\u001b[38;5;241;43m/\u001b[39;49m\u001b[43my\u001b[49m\n\u001b[1;32m      4\u001b[0m \u001b[38;5;28mprint\u001b[39m(z)\n",
      "\u001b[0;31mZeroDivisionError\u001b[0m: division by zero"
     ]
    }
   ],
   "source": [
    "x = 10\n",
    "y = 0\n",
    "z = x/y\n",
    "print(z)"
   ]
  },
  {
   "cell_type": "markdown",
   "id": "8af156c8-ccbf-4026-ad08-97d73ea4a576",
   "metadata": {},
   "source": [
    "In this code, the variable y is assigned a value of 0, which results in a ZeroDivisionError when the program attempts to divide x by y. Since we have not provided any exception handling mechanism to handle this error, the program will crash, and the following error message will be displayed on the console:"
   ]
  },
  {
   "cell_type": "markdown",
   "id": "16dda4c0-6bb0-4fdb-9377-37b4077c8410",
   "metadata": {},
   "source": [
    "## Q3"
   ]
  },
  {
   "cell_type": "markdown",
   "id": "555d2823-c4d1-437a-8f49-a9827c2e14ea",
   "metadata": {},
   "source": [
    "In Python, the try-except statement is used to catch and handle exceptions. It allows you to define a block of code to be executed in case an exception is raised in another block of code."
   ]
  },
  {
   "cell_type": "code",
   "execution_count": 3,
   "id": "4be5f9a1-683d-4a66-8557-b8e2170348c6",
   "metadata": {},
   "outputs": [
    {
     "name": "stdout",
     "output_type": "stream",
     "text": [
      "Error: Cannot divide by zero\n"
     ]
    }
   ],
   "source": [
    "try:\n",
    "    x = 10\n",
    "    y = 0\n",
    "    z = x/y\n",
    "except ZeroDivisionError:\n",
    "    print(\"Error: Cannot divide by zero\")"
   ]
  },
  {
   "cell_type": "markdown",
   "id": "dcad1a47-af24-4216-9f42-d512b079e1fc",
   "metadata": {},
   "source": [
    "In this example, we have used a try-except statement to catch and handle the ZeroDivisionError that occurs when we attempt to divide x by y. If this error occurs in the try block, the code in the except block will be executed, which prints an error message indicating that division by zero is not allowed."
   ]
  },
  {
   "cell_type": "markdown",
   "id": "ae42cf6c-3b16-4798-8b9c-dd0435a3b136",
   "metadata": {},
   "source": [
    "## Q4"
   ]
  },
  {
   "cell_type": "markdown",
   "id": "9f3e136b-684d-474e-b812-7649f135c873",
   "metadata": {},
   "source": [
    "try-else statement:\n",
    "The try-else statement is used to specify a block of code that should be executed if no exceptions are raised in the try block. Here's an example:"
   ]
  },
  {
   "cell_type": "code",
   "execution_count": 4,
   "id": "7f2d840c-f3dc-4312-ab89-e952c5b47952",
   "metadata": {},
   "outputs": [
    {
     "name": "stdout",
     "output_type": "stream",
     "text": [
      "Result:  2.0\n"
     ]
    }
   ],
   "source": [
    "try:\n",
    "    x = 10\n",
    "    y = 5\n",
    "    z = x/y\n",
    "except ZeroDivisionError:\n",
    "    print(\"Error: Cannot divide by zero\")\n",
    "else:\n",
    "    print(\"Result: \", z)"
   ]
  },
  {
   "cell_type": "markdown",
   "id": "6d6d8d95-dcc9-4949-8a3a-0170d7104b7e",
   "metadata": {},
   "source": [
    "finally statement:\n",
    "The finally statement is used to specify a block of code that should be executed regardless of whether an exception is raised in the try block. Here's an example:"
   ]
  },
  {
   "cell_type": "code",
   "execution_count": 7,
   "id": "e72b1c14-cbbd-45e1-bf08-633e26b2eac1",
   "metadata": {},
   "outputs": [],
   "source": [
    "try:\n",
    "    f = open(\"file.txt\", \"w\")\n",
    "    f.write('djff')\n",
    "finally:\n",
    "    f.close()"
   ]
  },
  {
   "cell_type": "markdown",
   "id": "90f640eb-177d-4c3a-a9a9-59607ceabad5",
   "metadata": {},
   "source": [
    "raise statement:\n",
    "The raise statement is used to manually raise an exception in Python. Here's an example:"
   ]
  },
  {
   "cell_type": "code",
   "execution_count": 8,
   "id": "58000a9e-ab2f-417c-983f-95107e4cec78",
   "metadata": {},
   "outputs": [
    {
     "name": "stdin",
     "output_type": "stream",
     "text": [
      "Enter a number:  -23\n"
     ]
    },
    {
     "name": "stdout",
     "output_type": "stream",
     "text": [
      "Error: Number cannot be negative\n"
     ]
    }
   ],
   "source": [
    "try:\n",
    "    x = int(input(\"Enter a number: \"))\n",
    "    if x < 0:\n",
    "        raise ValueError(\"Error: Number cannot be negative\")\n",
    "except ValueError as e:\n",
    "    print(e)"
   ]
  },
  {
   "cell_type": "markdown",
   "id": "f7f24e53-e12c-447f-bf93-7299b77ca302",
   "metadata": {},
   "source": [
    "## Q5"
   ]
  },
  {
   "cell_type": "markdown",
   "id": "60a708a1-e9b2-413e-970a-4e63334f342d",
   "metadata": {},
   "source": [
    "In Python, a custom exception is an exception that is defined by the programmer, rather than being one of the built-in exceptions provided by the language. Custom exceptions are created by defining a new class that inherits from the built-in Exception class.\n",
    "\n",
    "The main reason to create a custom exception is to provide a more specific error message that is relevant to a particular problem or situation in your program. By defining a custom exception, you can raise it in response to specific error conditions, making it easier to identify and handle those errors in your code."
   ]
  },
  {
   "cell_type": "code",
   "execution_count": 9,
   "id": "17bdeb66-1e72-4fe3-8624-480582376735",
   "metadata": {},
   "outputs": [],
   "source": [
    "class InvalidAgeError(Exception):\n",
    "    pass"
   ]
  },
  {
   "cell_type": "code",
   "execution_count": 10,
   "id": "8810cb96-1b5b-41d3-b2a2-d511c2a06446",
   "metadata": {},
   "outputs": [
    {
     "name": "stdin",
     "output_type": "stream",
     "text": [
      "Enter your age:  14\n"
     ]
    },
    {
     "name": "stdout",
     "output_type": "stream",
     "text": [
      "Discount:  0.1\n"
     ]
    }
   ],
   "source": [
    "def calculate_discount(age):\n",
    "    if age < 0 or age > 120:\n",
    "        raise InvalidAgeError(\"Error: Invalid age\")\n",
    "    elif age < 18:\n",
    "        return 0.10\n",
    "    else:\n",
    "        return 0.05\n",
    "\n",
    "try:\n",
    "    age = int(input(\"Enter your age: \"))\n",
    "    discount = calculate_discount(age)\n",
    "    print(\"Discount: \", discount)\n",
    "except InvalidAgeError as e:\n",
    "    print(e)"
   ]
  },
  {
   "cell_type": "markdown",
   "id": "5a1bb42d-e654-4f23-8ab5-fd10c6adbcf6",
   "metadata": {},
   "source": [
    "## Q6"
   ]
  },
  {
   "cell_type": "code",
   "execution_count": 11,
   "id": "3b755d64-0ddb-4846-979a-c677de2bb824",
   "metadata": {},
   "outputs": [],
   "source": [
    "class InvalidAgeError(Exception):\n",
    "    pass"
   ]
  },
  {
   "cell_type": "code",
   "execution_count": 13,
   "id": "4dc9e745-43b0-4642-b46b-fb208468f06e",
   "metadata": {},
   "outputs": [
    {
     "name": "stdin",
     "output_type": "stream",
     "text": [
      "Enter your age:  35\n"
     ]
    },
    {
     "name": "stdout",
     "output_type": "stream",
     "text": [
      "Discount:  0.05\n"
     ]
    }
   ],
   "source": [
    "def calculate_discount(age):\n",
    "    if age < 0 or age > 120:\n",
    "        raise InvalidAgeError(\"Error: Invalid age\")\n",
    "    elif age < 18:\n",
    "        return 0.10\n",
    "    else:\n",
    "        return 0.05\n",
    "\n",
    "try:\n",
    "    age = int(input(\"Enter your age: \"))\n",
    "    discount = calculate_discount(age)\n",
    "    print(\"Discount: \", discount)\n",
    "except InvalidAgeError as e:\n",
    "    print(e)"
   ]
  },
  {
   "cell_type": "code",
   "execution_count": null,
   "id": "6ba38aa3-d189-4318-a42c-dbbc49936bf9",
   "metadata": {},
   "outputs": [],
   "source": []
  }
 ],
 "metadata": {
  "kernelspec": {
   "display_name": "Python 3 (ipykernel)",
   "language": "python",
   "name": "python3"
  },
  "language_info": {
   "codemirror_mode": {
    "name": "ipython",
    "version": 3
   },
   "file_extension": ".py",
   "mimetype": "text/x-python",
   "name": "python",
   "nbconvert_exporter": "python",
   "pygments_lexer": "ipython3",
   "version": "3.10.8"
  }
 },
 "nbformat": 4,
 "nbformat_minor": 5
}
