{
 "cells": [
  {
   "cell_type": "markdown",
   "id": "8f7c9fa4-dcfd-49f1-b7d3-80af056adec0",
   "metadata": {},
   "source": [
    "# Q1"
   ]
  },
  {
   "cell_type": "markdown",
   "id": "16c2a3b0-fa5a-406f-b8e4-e1edfcd5100c",
   "metadata": {},
   "source": [
    "Yes tuples are immutable,their values cannot be changed once they are assigned"
   ]
  },
  {
   "cell_type": "markdown",
   "id": "173cba6f-a91d-4628-8d22-213ff9ff7fd9",
   "metadata": {},
   "source": [
    "Some main characteristics of tuples in programming"
   ]
  },
  {
   "cell_type": "markdown",
   "id": "1ef7c635-ffa1-4ccb-a07e-7897576d4fbe",
   "metadata": {},
   "source": [
    "1. Order- Tuples are ordered,meaning the order of element is significant and can be used to access specific element"
   ]
  },
  {
   "cell_type": "markdown",
   "id": "c35b0f8b-88a0-4e49-b564-1583293b11df",
   "metadata": {},
   "source": [
    "2. Hetrogenous element-Tuples can contain element of different data types"
   ]
  },
  {
   "cell_type": "markdown",
   "id": "259a23e2-2642-4ae7-ab89-d8d4aefbb7a2",
   "metadata": {},
   "source": [
    "3. Immutable- Tuples are immutable, their values can not be changed once assigned"
   ]
  },
  {
   "cell_type": "markdown",
   "id": "43cbb208-ad82-473d-860d-17108dca256a",
   "metadata": {},
   "source": [
    "4.Indexed-Each element in tuple can be accessed by index"
   ]
  },
  {
   "cell_type": "markdown",
   "id": "4a0a6f65-f482-49c1-b61e-0e965d780e96",
   "metadata": {},
   "source": [
    "# Q2"
   ]
  },
  {
   "cell_type": "markdown",
   "id": "a234fa5d-00e1-40c3-ad06-446263ac1072",
   "metadata": {},
   "source": [
    "There are two inbuilt function available for tuples"
   ]
  },
  {
   "cell_type": "markdown",
   "id": "62fa0822-f77a-45e2-900f-cce03e4354d2",
   "metadata": {},
   "source": [
    "1.count method-This method returns the number of times a specific element appeared"
   ]
  },
  {
   "cell_type": "code",
   "execution_count": 1,
   "id": "ea5a30dc-a287-4a23-b564-1a4186b1e606",
   "metadata": {},
   "outputs": [
    {
     "data": {
      "text/plain": [
       "4"
      ]
     },
     "execution_count": 1,
     "metadata": {},
     "output_type": "execute_result"
    }
   ],
   "source": [
    "num=(1,2,3,3,4,3,4,3,5)\n",
    "num.count(3)"
   ]
  },
  {
   "cell_type": "markdown",
   "id": "8ce62603-e2e9-4356-bf64-2d73b0f46c07",
   "metadata": {},
   "source": [
    "Index method-This method returns the index of first occurence of element in tuple"
   ]
  },
  {
   "cell_type": "code",
   "execution_count": 2,
   "id": "ae1b05f0-26fa-47b7-8bb7-b336826c7b9d",
   "metadata": {},
   "outputs": [
    {
     "data": {
      "text/plain": [
       "1"
      ]
     },
     "execution_count": 2,
     "metadata": {},
     "output_type": "execute_result"
    }
   ],
   "source": [
    "num.index(2)"
   ]
  },
  {
   "cell_type": "markdown",
   "id": "172972a7-e7e9-4a9e-807e-5603106db356",
   "metadata": {},
   "source": [
    "Tuples have only two inbuilt method as compared to list because tuples are designed to be light weight and efficient data structures. List on the other hand, are meant to be more flexible and more features. Tuples are used when we want to store a collection of related and can not want to modify it further"
   ]
  },
  {
   "cell_type": "markdown",
   "id": "1adce549-af53-4a16-8d77-27a78872b301",
   "metadata": {},
   "source": [
    "# Q3"
   ]
  },
  {
   "cell_type": "markdown",
   "id": "0a6abecc-cc63-4fa9-ba43-d72acb097c63",
   "metadata": {},
   "source": [
    "In python, set data types does not allow duplicate items"
   ]
  },
  {
   "cell_type": "code",
   "execution_count": 3,
   "id": "18b79924-b8e0-42d2-91e4-72b1da00c3d1",
   "metadata": {},
   "outputs": [
    {
     "data": {
      "text/plain": [
       "{1, 2, 3, 4}"
      ]
     },
     "execution_count": 3,
     "metadata": {},
     "output_type": "execute_result"
    }
   ],
   "source": [
    "lst=[1,1,1,1,2,2,2,2,2,1,3,3,3,4,4,4,4,3,3,2,1,4,4,3,3,4,2,1,4,2,3,3,4]\n",
    "set(lst)"
   ]
  },
  {
   "cell_type": "markdown",
   "id": "a0a83f46-516e-4cb2-b6e4-1a2023096c19",
   "metadata": {},
   "source": [
    "# Q4"
   ]
  },
  {
   "cell_type": "markdown",
   "id": "60e7d8e0-d779-4bec-a864-fce3530811ce",
   "metadata": {},
   "source": [
    "The union() and update() method used to combine two set in python, however they work slightly different and have different effects on original sets"
   ]
  },
  {
   "cell_type": "code",
   "execution_count": 4,
   "id": "8f637c90-d748-49b0-92ec-4cd1d674c9f6",
   "metadata": {},
   "outputs": [],
   "source": [
    "set1={1,2,3}\n",
    "set2={3,4,5}\n",
    "set3=set1.union(set2)"
   ]
  },
  {
   "cell_type": "code",
   "execution_count": 5,
   "id": "2dee19b7-a6d3-4e70-9e17-19fd37985881",
   "metadata": {},
   "outputs": [
    {
     "data": {
      "text/plain": [
       "{1, 2, 3, 4, 5}"
      ]
     },
     "execution_count": 5,
     "metadata": {},
     "output_type": "execute_result"
    }
   ],
   "source": [
    "set3"
   ]
  },
  {
   "cell_type": "markdown",
   "id": "c6df289d-05c6-421a-bf03-e44439925e0e",
   "metadata": {},
   "source": [
    "update() adds the element of one set to another"
   ]
  },
  {
   "cell_type": "code",
   "execution_count": 8,
   "id": "8109b3b8-bf38-4c59-88f5-841e9c5a62f4",
   "metadata": {},
   "outputs": [
    {
     "data": {
      "text/plain": [
       "{1, 2, 3, 4, 5}"
      ]
     },
     "execution_count": 8,
     "metadata": {},
     "output_type": "execute_result"
    }
   ],
   "source": [
    "set1.update(set2)\n",
    "set1"
   ]
  },
  {
   "cell_type": "markdown",
   "id": "3de1067c-f6d8-4a3b-9b55-5dcf7f4166fc",
   "metadata": {},
   "source": [
    "# Q5"
   ]
  },
  {
   "cell_type": "markdown",
   "id": "b8b63787-0cd5-4514-afb6-4a318aac54b4",
   "metadata": {},
   "source": [
    "A dictionary in python is an unordered collection of keys-value pairs,where each key is associated with a value. A dictionary is similar to real world dictionary where we can look up a word and finds its definition."
   ]
  },
  {
   "cell_type": "code",
   "execution_count": 9,
   "id": "20898eba-2f04-4084-a1ba-c9f6f0f3ffc3",
   "metadata": {},
   "outputs": [
    {
     "data": {
      "text/plain": [
       "{'name': ['dk', 'ek'], 'age': [12, 14]}"
      ]
     },
     "execution_count": 9,
     "metadata": {},
     "output_type": "execute_result"
    }
   ],
   "source": [
    "dict={'name':['dk','ek'],'age':[12,14]}\n",
    "dict"
   ]
  },
  {
   "cell_type": "markdown",
   "id": "91d7714b-d8ca-43e2-8727-50cab3887fd3",
   "metadata": {},
   "source": [
    "IN python dictionary is unordered meaning it has no index access"
   ]
  },
  {
   "cell_type": "markdown",
   "id": "0a9460d3-8c07-4609-a558-edab923e2936",
   "metadata": {},
   "source": [
    "# Q6"
   ]
  },
  {
   "cell_type": "markdown",
   "id": "873dbcd8-b39a-4a9d-ba1d-084027fb3876",
   "metadata": {},
   "source": [
    "Yes we can create nested dictionary in python. A nested dictionary that contains another dictionary as its value. We can create many levels of dictionary as we want"
   ]
  },
  {
   "cell_type": "code",
   "execution_count": 10,
   "id": "726af5df-7885-46f6-a447-23c7a5a8cf08",
   "metadata": {},
   "outputs": [],
   "source": [
    "dict={'name':'John','address':{'street':'dfgg 233','city':'new world','state':'vv'}}"
   ]
  },
  {
   "cell_type": "code",
   "execution_count": 11,
   "id": "38b6207f-2553-48ee-a5b9-3c960259f1fe",
   "metadata": {},
   "outputs": [
    {
     "data": {
      "text/plain": [
       "{'name': 'John',\n",
       " 'address': {'street': 'dfgg 233', 'city': 'new world', 'state': 'vv'}}"
      ]
     },
     "execution_count": 11,
     "metadata": {},
     "output_type": "execute_result"
    }
   ],
   "source": [
    "dict"
   ]
  },
  {
   "cell_type": "markdown",
   "id": "25b19ce7-73e0-4dc1-b897-67506b070c60",
   "metadata": {},
   "source": [
    "# Q7"
   ]
  },
  {
   "cell_type": "code",
   "execution_count": 16,
   "id": "7ba0f67b-5d67-4911-8e25-6388513d92f1",
   "metadata": {},
   "outputs": [
    {
     "data": {
      "text/plain": [
       "{'language': 'python',\n",
       " 'course': 'data science masters',\n",
       " 'topics': ['python', 'machine learning', 'deep learning']}"
      ]
     },
     "execution_count": 16,
     "metadata": {},
     "output_type": "execute_result"
    }
   ],
   "source": [
    "dict1={'language':'python','course':'data science masters'}\n",
    "dict1.setdefault('topics',['python','machine learning','deep learning'])\n",
    "dict1"
   ]
  },
  {
   "cell_type": "markdown",
   "id": "915f509f-72cc-4c61-a083-9f081de5d67f",
   "metadata": {},
   "source": [
    "# Q8"
   ]
  },
  {
   "cell_type": "markdown",
   "id": "a59ef7ba-c45e-4b9e-b927-777a26138433",
   "metadata": {},
   "source": [
    "In python, dictionary has three view object that provides different views"
   ]
  },
  {
   "cell_type": "markdown",
   "id": "86143917-e446-424f-b097-d4e104759a5a",
   "metadata": {},
   "source": [
    "1. keys()- returns a view object that returns a list of all the keys of dictionary"
   ]
  },
  {
   "cell_type": "markdown",
   "id": "b9307c0e-c374-494b-8991-6cf655383f87",
   "metadata": {},
   "source": [
    "2. values()- returns a view object that returns a list of all values of dictionary"
   ]
  },
  {
   "cell_type": "markdown",
   "id": "a7e85ca4-9696-400d-9a48-dea99df40214",
   "metadata": {},
   "source": [
    "3. items()- returns a view object that returns a tuple of all key value pairs of dictionary"
   ]
  },
  {
   "cell_type": "code",
   "execution_count": null,
   "id": "1719ec91-f9dc-4300-9ab3-e270d81424ae",
   "metadata": {},
   "outputs": [],
   "source": [
    "dict1={'sports':'cricket','Teams':['India','Australia','England','South Africa','Srilanka','New Zealand']}"
   ]
  }
 ],
 "metadata": {
  "kernelspec": {
   "display_name": "Python 3 (ipykernel)",
   "language": "python",
   "name": "python3"
  },
  "language_info": {
   "codemirror_mode": {
    "name": "ipython",
    "version": 3
   },
   "file_extension": ".py",
   "mimetype": "text/x-python",
   "name": "python",
   "nbconvert_exporter": "python",
   "pygments_lexer": "ipython3",
   "version": "3.10.8"
  }
 },
 "nbformat": 4,
 "nbformat_minor": 5
}
