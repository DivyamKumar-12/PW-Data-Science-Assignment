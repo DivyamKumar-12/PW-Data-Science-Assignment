{
 "cells": [
  {
   "cell_type": "markdown",
   "id": "d6667004-b59c-4b4c-a0b7-7431c7c63a83",
   "metadata": {},
   "source": [
    "# Q1"
   ]
  },
  {
   "cell_type": "code",
   "execution_count": null,
   "id": "909f6785-2ea7-42ef-bae0-5f26e4177779",
   "metadata": {},
   "outputs": [],
   "source": [
    "n=int(input())\n",
    "if n>90:\n",
    "    print('A')\n",
    "elif n>80 and n<=90:\n",
    "    print('B')\n",
    "elif n>=60 and n<=80:\n",
    "    print('C')\n",
    "else:\n",
    "    print('D')"
   ]
  },
  {
   "cell_type": "markdown",
   "id": "8914cc8c-864a-4a26-b375-164a4b3ede8e",
   "metadata": {},
   "source": [
    "# Q2\n"
   ]
  },
  {
   "cell_type": "code",
   "execution_count": null,
   "id": "61de84a3-765f-4899-9a4e-27b8d1055a04",
   "metadata": {},
   "outputs": [],
   "source": [
    "n=int(input())\n",
    "if n>100000:\n",
    "    print('15%')\n",
    "elif n>50000 and n<=100000:\n",
    "    print('10%')\n",
    "else:\n",
    "    print('5%')"
   ]
  },
  {
   "cell_type": "markdown",
   "id": "2298a35e-4501-4eac-9cea-1d8f9609e5f2",
   "metadata": {},
   "source": [
    "# Q3"
   ]
  },
  {
   "cell_type": "code",
   "execution_count": null,
   "id": "77d2aa82-1bce-419c-98f0-84fbeb67574d",
   "metadata": {},
   "outputs": [],
   "source": [
    "n=input()\n",
    "if n=='Delhi':\n",
    "    print('Red Fort')\n",
    "elif n=='Agra':\n",
    "    print('Taj Mahal')\n",
    "elif n=='Jaipur':\n",
    "    print('Jal Mahal')"
   ]
  },
  {
   "cell_type": "markdown",
   "id": "b68bf20b-b1ac-44f0-a125-ec169591b8f9",
   "metadata": {},
   "source": [
    "# Q4"
   ]
  },
  {
   "cell_type": "code",
   "execution_count": null,
   "id": "81fc2adc-4ff0-4c79-8d6e-4e538fe8bf8f",
   "metadata": {},
   "outputs": [],
   "source": [
    "n=int(input())\n",
    "count=0\n",
    "while n>=10:\n",
    "    n=n//3\n",
    "    count+=1\n",
    "print(count)"
   ]
  },
  {
   "cell_type": "markdown",
   "id": "0395dac5-68a3-4b9d-ac15-96af4f2b1209",
   "metadata": {},
   "source": [
    "# Q5\n"
   ]
  },
  {
   "cell_type": "markdown",
   "id": "7ec371a2-a58b-47a0-ac98-d67612bddffc",
   "metadata": {},
   "source": [
    "The while loop in python is used to repeatedly execute a block of code as long as a specific condition is met"
   ]
  },
  {
   "cell_type": "code",
   "execution_count": null,
   "id": "183902e2-e1e3-484b-997b-1c43f059596e",
   "metadata": {},
   "outputs": [],
   "source": [
    "i=1\n",
    "while i!=10:\n",
    "    print(i)\n",
    "    i=i+1"
   ]
  },
  {
   "cell_type": "markdown",
   "id": "9927c5b8-4614-4512-a4fa-7cfd42b757ed",
   "metadata": {},
   "source": [
    "Here condition is an expression that is evaluated to determine whether the loop should continue.if i will become 10 the loop will end"
   ]
  },
  {
   "cell_type": "markdown",
   "id": "a4e62956-9683-4f3c-b711-3879aea7bf10",
   "metadata": {},
   "source": [
    "# Q6\n"
   ]
  },
  {
   "cell_type": "code",
   "execution_count": null,
   "id": "96f47d22-cc31-4cd2-b22a-5833b4d83b91",
   "metadata": {},
   "outputs": [],
   "source": [
    "n=1\n",
    "\n",
    "while n!=10:\n",
    "    for i in range(n):\n",
    "        print('*',end='')\n",
    "    print()\n",
    "    n=n+1"
   ]
  },
  {
   "cell_type": "code",
   "execution_count": null,
   "id": "0a46b0f2-de99-448a-9af6-7592de852137",
   "metadata": {},
   "outputs": [],
   "source": [
    "n=1\n",
    "\n",
    "while n!=10:\n",
    "    for i in range(n):\n",
    "        print('*',end='')\n",
    "    print()\n",
    "    n=n+1\n",
    "m=11\n",
    "while m!=1:\n",
    "    for i in range(1,n):\n",
    "        print('*',end='')\n",
    "    print()\n",
    "    n=n-1"
   ]
  },
  {
   "cell_type": "code",
   "execution_count": null,
   "id": "7e2a09c0-aba0-4f27-908a-e64b9d96d27e",
   "metadata": {},
   "outputs": [],
   "source": [
    "n=14\n",
    "while n!=1:\n",
    "    for i in range(1,n):\n",
    "        print('*',end='')\n",
    "    print()\n",
    "    n=n-1"
   ]
  },
  {
   "cell_type": "code",
   "execution_count": null,
   "id": "2837a9a6-40a6-4b66-868c-b8c219ab5365",
   "metadata": {},
   "outputs": [],
   "source": [
    "n=14\n",
    "while n!=1:\n",
    "    for i in range(1,n):\n",
    "        print('*',end='')\n",
    "    print()\n",
    "    n=n-1"
   ]
  },
  {
   "cell_type": "code",
   "execution_count": null,
   "id": "dea1f628-ee9a-4f3c-9b34-ae818cb622df",
   "metadata": {},
   "outputs": [],
   "source": [
    "n=11\n",
    "while n!=1:\n",
    "    for i in range(1,n):\n",
    "        print(i,end='')\n",
    "    print()\n",
    "    n=n-1"
   ]
  },
  {
   "cell_type": "markdown",
   "id": "bcd49940-feba-4f88-9af0-c24d0f4083bd",
   "metadata": {},
   "source": [
    "# Q7"
   ]
  },
  {
   "cell_type": "code",
   "execution_count": null,
   "id": "87a955e5-6038-4b2e-8b9e-d8f1235d2871",
   "metadata": {},
   "outputs": [],
   "source": [
    "n=10\n",
    "while n!=0:\n",
    "    print(n)\n",
    "    n=n-1"
   ]
  },
  {
   "cell_type": "markdown",
   "id": "36fa6004-a196-459d-aad9-972d887de865",
   "metadata": {},
   "source": [
    "# Q8"
   ]
  },
  {
   "cell_type": "code",
   "execution_count": null,
   "id": "1767eb95-7935-44ab-9e3f-26d1fe34ea05",
   "metadata": {},
   "outputs": [],
   "source": [
    "n=10\n",
    "while n!=0:\n",
    "    print(n)\n",
    "    n=n-1"
   ]
  },
  {
   "cell_type": "code",
   "execution_count": null,
   "id": "6531c0fa-e520-421f-9a53-e79ba8433f66",
   "metadata": {},
   "outputs": [],
   "source": []
  }
 ],
 "metadata": {
  "kernelspec": {
   "display_name": "Python 3 (ipykernel)",
   "language": "python",
   "name": "python3"
  },
  "language_info": {
   "codemirror_mode": {
    "name": "ipython",
    "version": 3
   },
   "file_extension": ".py",
   "mimetype": "text/x-python",
   "name": "python",
   "nbconvert_exporter": "python",
   "pygments_lexer": "ipython3",
   "version": "3.10.8"
  }
 },
 "nbformat": 4,
 "nbformat_minor": 5
}
