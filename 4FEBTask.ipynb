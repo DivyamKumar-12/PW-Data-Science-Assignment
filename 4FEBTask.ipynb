{
 "cells": [
  {
   "cell_type": "markdown",
   "id": "19642311-0083-4c61-88fa-5fe85b8d433c",
   "metadata": {},
   "source": [
    "## 6 FEB TASK"
   ]
  },
  {
   "cell_type": "markdown",
   "id": "402c7ead-667f-4e74-837a-d0db2683ed04",
   "metadata": {},
   "source": [
    "### Q1"
   ]
  },
  {
   "cell_type": "code",
   "execution_count": 23,
   "id": "e1286f77-874d-455f-8939-e65acc72b640",
   "metadata": {},
   "outputs": [],
   "source": [
    "lst=[('Sachin Tendulkar',34357),('Ricky Panting',27483),('Jack Kallis',25534),('Virat Kohli',24936)]\n",
    "i=[0,1,2,3]"
   ]
  },
  {
   "cell_type": "code",
   "execution_count": 31,
   "id": "524940b8-19a0-44c2-bc10-9b709ee8ef34",
   "metadata": {},
   "outputs": [],
   "source": [
    "fil=lambda x:x[1]"
   ]
  },
  {
   "cell_type": "code",
   "execution_count": 37,
   "id": "db97a7f2-f946-4043-b3f5-06adf759b35d",
   "metadata": {},
   "outputs": [],
   "source": [
    "sort=sorted(lst,key=fil)"
   ]
  },
  {
   "cell_type": "code",
   "execution_count": 38,
   "id": "5425d62f-4efe-48ec-95b3-e462307f9ae2",
   "metadata": {},
   "outputs": [
    {
     "data": {
      "text/plain": [
       "[('Virat Kohli', 24936),\n",
       " ('Jack Kallis', 25534),\n",
       " ('Ricky Panting', 27483),\n",
       " ('Sachin Tendulkar', 34357)]"
      ]
     },
     "execution_count": 38,
     "metadata": {},
     "output_type": "execute_result"
    }
   ],
   "source": [
    "sort"
   ]
  },
  {
   "cell_type": "markdown",
   "id": "91014b9a-e0f5-4d2a-9b0d-83701a77711b",
   "metadata": {},
   "source": [
    "### Q2"
   ]
  },
  {
   "cell_type": "code",
   "execution_count": 39,
   "id": "dea39261-441a-4805-b7a9-da7ce715e97c",
   "metadata": {},
   "outputs": [],
   "source": [
    "l1=[1,2,3,4,5,6,7,8,9,10]"
   ]
  },
  {
   "cell_type": "code",
   "execution_count": 42,
   "id": "a70d03fa-20aa-4f9e-8d44-56357d263b50",
   "metadata": {},
   "outputs": [
    {
     "data": {
      "text/plain": [
       "[1, 4, 9, 16, 25, 36, 49, 64, 81, 100]"
      ]
     },
     "execution_count": 42,
     "metadata": {},
     "output_type": "execute_result"
    }
   ],
   "source": [
    "list(map(lambda x:x**2,l1))"
   ]
  },
  {
   "cell_type": "markdown",
   "id": "8c82a50a-b293-4e60-a1a2-ff04955d0ee6",
   "metadata": {},
   "source": [
    "### Q3"
   ]
  },
  {
   "cell_type": "code",
   "execution_count": 43,
   "id": "ffe8b99b-894a-4c11-b46f-90850088f241",
   "metadata": {},
   "outputs": [
    {
     "data": {
      "text/plain": [
       "['1', '2', '3', '4', '5', '6', '7', '8', '9', '10']"
      ]
     },
     "execution_count": 43,
     "metadata": {},
     "output_type": "execute_result"
    }
   ],
   "source": [
    "list(map(lambda x:str(x),l1))"
   ]
  },
  {
   "cell_type": "markdown",
   "id": "b22c723e-49cf-4ddd-820a-ad78ef79a1f1",
   "metadata": {},
   "source": [
    "### Q4"
   ]
  },
  {
   "cell_type": "code",
   "execution_count": 44,
   "id": "f3271406-225d-4528-bfee-469a99b130b1",
   "metadata": {},
   "outputs": [],
   "source": [
    "from functools import reduce"
   ]
  },
  {
   "cell_type": "code",
   "execution_count": 49,
   "id": "c5721413-d20e-47bb-bb12-7905bc72faf6",
   "metadata": {},
   "outputs": [],
   "source": [
    "red=reduce(lambda x,y:x*y,range(1,26))"
   ]
  },
  {
   "cell_type": "code",
   "execution_count": 50,
   "id": "ce3efca3-8089-4ac7-b117-44dc49f86c3d",
   "metadata": {},
   "outputs": [
    {
     "data": {
      "text/plain": [
       "15511210043330985984000000"
      ]
     },
     "execution_count": 50,
     "metadata": {},
     "output_type": "execute_result"
    }
   ],
   "source": [
    "red"
   ]
  },
  {
   "cell_type": "markdown",
   "id": "532edf70-e220-4daa-98ee-f245e1072f5e",
   "metadata": {},
   "source": [
    "### Q5"
   ]
  },
  {
   "cell_type": "code",
   "execution_count": 51,
   "id": "270b6429-e339-4bd3-b179-19cd59f8f570",
   "metadata": {},
   "outputs": [],
   "source": [
    "l2=[2,3,6,9,27,60,90,120,55,45]"
   ]
  },
  {
   "cell_type": "code",
   "execution_count": 53,
   "id": "71430f58-c724-4b43-bbf5-c0119be48be6",
   "metadata": {},
   "outputs": [
    {
     "data": {
      "text/plain": [
       "[6, 60, 90, 120]"
      ]
     },
     "execution_count": 53,
     "metadata": {},
     "output_type": "execute_result"
    }
   ],
   "source": [
    "list(filter(lambda x:x%2==0 and x%3==0,l2))"
   ]
  },
  {
   "cell_type": "markdown",
   "id": "80131e7e-98f5-45a6-bdff-7f5a7390b79a",
   "metadata": {},
   "source": [
    "### Q6"
   ]
  },
  {
   "cell_type": "code",
   "execution_count": 54,
   "id": "982d3cc7-127b-4c23-b65b-0b391ba5e574",
   "metadata": {},
   "outputs": [],
   "source": [
    "l3=['python','php','aba','radar','level']"
   ]
  },
  {
   "cell_type": "code",
   "execution_count": null,
   "id": "e07cc492-2b84-4bb7-95ce-12347a68769e",
   "metadata": {},
   "outputs": [],
   "source": [
    "list(filter(lambda x: x"
   ]
  }
 ],
 "metadata": {
  "kernelspec": {
   "display_name": "Python 3 (ipykernel)",
   "language": "python",
   "name": "python3"
  },
  "language_info": {
   "codemirror_mode": {
    "name": "ipython",
    "version": 3
   },
   "file_extension": ".py",
   "mimetype": "text/x-python",
   "name": "python",
   "nbconvert_exporter": "python",
   "pygments_lexer": "ipython3",
   "version": "3.10.8"
  }
 },
 "nbformat": 4,
 "nbformat_minor": 5
}
