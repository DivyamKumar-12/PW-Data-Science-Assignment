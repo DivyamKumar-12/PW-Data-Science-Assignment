{
 "cells": [
  {
   "cell_type": "markdown",
   "id": "0fe60b76-6932-40d2-bce9-126342472137",
   "metadata": {},
   "source": [
    "## 3 FEB ASSIGN"
   ]
  },
  {
   "cell_type": "markdown",
   "id": "5da09bcb-44ba-40fd-98ae-8d9461ad416e",
   "metadata": {},
   "source": [
    "### Q1"
   ]
  },
  {
   "cell_type": "raw",
   "id": "d0c06fdd-1524-4319-befe-1b5cfaca3a84",
   "metadata": {},
   "source": [
    "def keyword is used to create a function"
   ]
  },
  {
   "cell_type": "code",
   "execution_count": 8,
   "id": "429b3199-a278-4a01-a4a6-17b3d464ce65",
   "metadata": {},
   "outputs": [],
   "source": [
    "l=list(range(1,25))\n"
   ]
  },
  {
   "cell_type": "code",
   "execution_count": 14,
   "id": "12c2261b-9129-42f8-aad8-8f49f038b364",
   "metadata": {},
   "outputs": [],
   "source": [
    "def test(l):\n",
    "    l1=[]\n",
    "    for i in l:\n",
    "        if i%2!=0:\n",
    "            l1.append(i)\n",
    "    print(l1)\n",
    "    "
   ]
  },
  {
   "cell_type": "code",
   "execution_count": 15,
   "id": "56b1d1d1-484a-48e0-be89-8295a9647b11",
   "metadata": {},
   "outputs": [
    {
     "name": "stdout",
     "output_type": "stream",
     "text": [
      "[1, 3, 5, 7, 9, 11, 13, 15, 17, 19, 21, 23]\n"
     ]
    }
   ],
   "source": [
    "l1=test(l)\n",
    "l1"
   ]
  },
  {
   "cell_type": "markdown",
   "id": "0d0bfd44-2f86-46e2-b0fa-2ba0d62e9338",
   "metadata": {},
   "source": [
    "### Q2"
   ]
  },
  {
   "cell_type": "raw",
   "id": "e947ad01-a36a-414c-83d3-d6da0f8c9656",
   "metadata": {},
   "source": [
    "*args is used to pass any number of values and **kargs is used for return the value in dictionary format"
   ]
  },
  {
   "cell_type": "code",
   "execution_count": 16,
   "id": "7eb4f6bc-6291-49b5-85f6-4badadc0fd97",
   "metadata": {},
   "outputs": [],
   "source": [
    "def t1(*args):\n",
    "    return args"
   ]
  },
  {
   "cell_type": "code",
   "execution_count": 18,
   "id": "f340feb5-3015-4c9b-a7d3-ae03d643728e",
   "metadata": {},
   "outputs": [
    {
     "data": {
      "text/plain": [
       "([1, 2, 3, 4, [3, 44, 5], 'sddd'],)"
      ]
     },
     "execution_count": 18,
     "metadata": {},
     "output_type": "execute_result"
    }
   ],
   "source": [
    "t1([1,2,3,4,[3,44,5],'sddd'])"
   ]
  },
  {
   "cell_type": "code",
   "execution_count": 19,
   "id": "e1b8021b-de12-43cc-86b8-88553e17c4c3",
   "metadata": {},
   "outputs": [],
   "source": [
    "def t2(**kargs):\n",
    "    return kargs"
   ]
  },
  {
   "cell_type": "code",
   "execution_count": 20,
   "id": "99e4becb-cbfb-440b-81c5-b95b7578423a",
   "metadata": {},
   "outputs": [
    {
     "data": {
      "text/plain": [
       "{'a': 32, 'b': 444, 'c': 900, 'f': 'ddd'}"
      ]
     },
     "execution_count": 20,
     "metadata": {},
     "output_type": "execute_result"
    }
   ],
   "source": [
    "t2(a=32,b=444,c=900,f='ddd')"
   ]
  },
  {
   "cell_type": "markdown",
   "id": "25298097-926d-4812-a09f-2b6c6525b585",
   "metadata": {},
   "source": [
    "### Q3"
   ]
  },
  {
   "cell_type": "raw",
   "id": "847f1755-e75c-479b-a95d-80c7dd72e9ad",
   "metadata": {},
   "source": [
    "Iteration is used to iterate through list or any other large value function and return specific value from that"
   ]
  },
  {
   "cell_type": "code",
   "execution_count": 25,
   "id": "77c34042-4557-4960-a652-54c432a5602c",
   "metadata": {},
   "outputs": [
    {
     "name": "stdout",
     "output_type": "stream",
     "text": [
      "2\n",
      "4\n",
      "6\n",
      "8\n",
      "10\n"
     ]
    }
   ],
   "source": [
    "l3=[2,4,6,8,10,12,14,16,18,20]\n",
    "count=0\n",
    "for i in l3:\n",
    "    count+=1\n",
    "    print(i)\n",
    "    if count==5:\n",
    "        break"
   ]
  },
  {
   "cell_type": "markdown",
   "id": "d994b4eb-b8f5-414f-a696-d9f55e398eb2",
   "metadata": {},
   "source": [
    "### Q4"
   ]
  },
  {
   "cell_type": "markdown",
   "id": "1328293d-8ca9-4aee-982f-2782815c02ba",
   "metadata": {},
   "source": [
    "IT is special type of function, it do not execute the code  at once and do not store the entire result in memory.instead it generates the value one by one\n",
    "The yield keyword is used to produce a value and then pause the execution of function"
   ]
  },
  {
   "cell_type": "code",
   "execution_count": 26,
   "id": "6b16d47b-b756-483b-9ced-0561d40bb3ba",
   "metadata": {},
   "outputs": [],
   "source": [
    "def test_fib(n):\n",
    "    a,b=0,1\n",
    "    for i in range(n):\n",
    "        yield a\n",
    "        a,b=b,a+b"
   ]
  },
  {
   "cell_type": "code",
   "execution_count": 27,
   "id": "5b684868-5281-4202-93bf-56151691d18a",
   "metadata": {},
   "outputs": [
    {
     "name": "stdout",
     "output_type": "stream",
     "text": [
      "0\n",
      "1\n",
      "1\n",
      "2\n",
      "3\n",
      "5\n",
      "8\n",
      "13\n",
      "21\n",
      "34\n",
      "55\n"
     ]
    }
   ],
   "source": [
    "for i in test_fib(11):\n",
    "    print(i)"
   ]
  },
  {
   "cell_type": "code",
   "execution_count": 30,
   "id": "078c5a5c-47c9-45d6-a9be-1c6d3c557656",
   "metadata": {},
   "outputs": [],
   "source": [
    "def test_prime(n):\n",
    "    for i in range(2,n):\n",
    "        count=0\n",
    "        for j in range(2,i):\n",
    "            if i%j==0:\n",
    "                count+=1\n",
    "        if count==0:\n",
    "            yield i"
   ]
  },
  {
   "cell_type": "code",
   "execution_count": 40,
   "id": "3a4acdf7-faa5-4534-8ebb-4537bfd76df3",
   "metadata": {},
   "outputs": [
    {
     "name": "stdout",
     "output_type": "stream",
     "text": [
      "2\n",
      "2\n",
      "2\n",
      "2\n",
      "2\n",
      "2\n",
      "2\n",
      "2\n"
     ]
    }
   ],
   "source": [
    "for i in test_prime(20):\n",
    "    \n",
    "    print(next(test_prime(20)))"
   ]
  },
  {
   "cell_type": "code",
   "execution_count": null,
   "id": "41707d65-bdc1-46d3-96e3-3ad5cb46ebd9",
   "metadata": {},
   "outputs": [],
   "source": []
  },
  {
   "cell_type": "code",
   "execution_count": null,
   "id": "24316904-79cf-4fbe-b43c-b48cd894dfeb",
   "metadata": {},
   "outputs": [],
   "source": []
  }
 ],
 "metadata": {
  "kernelspec": {
   "display_name": "Python 3 (ipykernel)",
   "language": "python",
   "name": "python3"
  },
  "language_info": {
   "codemirror_mode": {
    "name": "ipython",
    "version": 3
   },
   "file_extension": ".py",
   "mimetype": "text/x-python",
   "name": "python",
   "nbconvert_exporter": "python",
   "pygments_lexer": "ipython3",
   "version": "3.10.8"
  }
 },
 "nbformat": 4,
 "nbformat_minor": 5
}
