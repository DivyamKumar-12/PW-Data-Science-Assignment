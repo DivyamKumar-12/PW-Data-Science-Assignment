{
 "cells": [
  {
   "cell_type": "markdown",
   "id": "cefa2226-016b-4145-97ca-2c259c0da704",
   "metadata": {},
   "source": [
    "# Q1"
   ]
  },
  {
   "cell_type": "code",
   "execution_count": 1,
   "id": "56400e30-863d-47e6-91df-7bd86445c648",
   "metadata": {},
   "outputs": [
    {
     "name": "stdin",
     "output_type": "stream",
     "text": [
      " ABhg$#@234hdgAA!\n"
     ]
    },
    {
     "name": "stdout",
     "output_type": "stream",
     "text": [
      "Valid Password\n"
     ]
    }
   ],
   "source": [
    "password=input()\n",
    "upper_case=\"ABCDEFGHIJKLMNOPQRSTUVWXYZ\"\n",
    "lower_case='abcdefghijklmnopqrstuvwxyz'\n",
    "number='1234567890'\n",
    "count1=0\n",
    "count2=0\n",
    "count3=0\n",
    "count4=0\n",
    "for i in password:\n",
    "    if i in upper_case:\n",
    "        count1=count1+1\n",
    "    elif i in lower_case:\n",
    "        count2=count2+1\n",
    "    elif i in number:\n",
    "        count3=count3+1\n",
    "count4=len(password)-(count1+count2+count3)\n",
    "if len(password)>=10 and count1>=2 and count2>=2 and count3>=1 and count4>=3:\n",
    "    print('Valid Password')\n",
    "else:\n",
    "    print('Invalid Password')"
   ]
  },
  {
   "cell_type": "markdown",
   "id": "0084c523-2365-4ee6-ba76-3cb7a5ef4a33",
   "metadata": {},
   "source": [
    "# Q2"
   ]
  },
  {
   "cell_type": "code",
   "execution_count": 18,
   "id": "e6674cd0-217e-462c-9bc2-79d0f59630d8",
   "metadata": {},
   "outputs": [],
   "source": [
    "\n",
    "check1=lambda str1:'True' if str1[0]=='d' else 'false'"
   ]
  },
  {
   "cell_type": "code",
   "execution_count": 19,
   "id": "ac431e89-1eef-4d49-b21d-aef98f896929",
   "metadata": {},
   "outputs": [
    {
     "data": {
      "text/plain": [
       "'True'"
      ]
     },
     "execution_count": 19,
     "metadata": {},
     "output_type": "execute_result"
    }
   ],
   "source": [
    "check('divy')\n"
   ]
  },
  {
   "cell_type": "code",
   "execution_count": 20,
   "id": "145a800f-a4c3-4791-b331-54322d657e6c",
   "metadata": {},
   "outputs": [],
   "source": [
    "check2=lambda str1:'True' if str1.isdigit()==True else 'False'"
   ]
  },
  {
   "cell_type": "code",
   "execution_count": 21,
   "id": "303cda07-4bd4-4b2a-b35e-b72f31a9d4b0",
   "metadata": {},
   "outputs": [
    {
     "data": {
      "text/plain": [
       "'True'"
      ]
     },
     "execution_count": 21,
     "metadata": {},
     "output_type": "execute_result"
    }
   ],
   "source": [
    "check2('3456')"
   ]
  },
  {
   "cell_type": "code",
   "execution_count": 23,
   "id": "9968a98d-a6ec-4e50-bcc9-45511c3c6305",
   "metadata": {},
   "outputs": [
    {
     "data": {
      "text/plain": [
       "[('graphes', 1000), ('mango', 99), ('orange', 80)]"
      ]
     },
     "execution_count": 23,
     "metadata": {},
     "output_type": "execute_result"
    }
   ],
   "source": [
    "lst=[('mango',99),('orange',80),('graphes',1000)]\n",
    "lst.sort()\n",
    "lst"
   ]
  },
  {
   "cell_type": "code",
   "execution_count": 28,
   "id": "6fe0b860-a5bc-40d8-bca7-b117709f86fb",
   "metadata": {},
   "outputs": [],
   "source": [
    "l=list(range(1,11))"
   ]
  },
  {
   "cell_type": "code",
   "execution_count": 31,
   "id": "b8dd3542-47ba-4d47-ae5d-d731b3e53525",
   "metadata": {},
   "outputs": [
    {
     "data": {
      "text/plain": [
       "[1, 4, 9, 16, 25, 36, 49, 64, 81, 100]"
      ]
     },
     "execution_count": 31,
     "metadata": {},
     "output_type": "execute_result"
    }
   ],
   "source": [
    "l1=list(map(lambda x:x**2,l))\n",
    "l1"
   ]
  },
  {
   "cell_type": "code",
   "execution_count": 32,
   "id": "2d5c3c58-ede5-4d69-b443-079c79872057",
   "metadata": {},
   "outputs": [
    {
     "data": {
      "text/plain": [
       "[1.0,\n",
       " 1.2599210498948732,\n",
       " 1.4422495703074083,\n",
       " 1.5874010519681994,\n",
       " 1.7099759466766968,\n",
       " 1.8171205928321397,\n",
       " 1.912931182772389,\n",
       " 2.0,\n",
       " 2.080083823051904,\n",
       " 2.154434690031884]"
      ]
     },
     "execution_count": 32,
     "metadata": {},
     "output_type": "execute_result"
    }
   ],
   "source": [
    "l1=list(map(lambda x:x**(1/3),l))\n",
    "l1"
   ]
  },
  {
   "cell_type": "code",
   "execution_count": 38,
   "id": "eb4bcadd-65b4-4796-8bfe-dc92f1a4f088",
   "metadata": {},
   "outputs": [],
   "source": [
    "check3=lambda x:'True' if x%2==0 else 'Flase'"
   ]
  },
  {
   "cell_type": "code",
   "execution_count": 39,
   "id": "7766a243-b923-4af8-98ad-181f422ea0df",
   "metadata": {},
   "outputs": [
    {
     "data": {
      "text/plain": [
       "'True'"
      ]
     },
     "execution_count": 39,
     "metadata": {},
     "output_type": "execute_result"
    }
   ],
   "source": [
    "check3(4)"
   ]
  },
  {
   "cell_type": "code",
   "execution_count": 44,
   "id": "f1c38392-eea7-4689-a938-e6b9b717af5a",
   "metadata": {},
   "outputs": [
    {
     "data": {
      "text/plain": [
       "[1, 3, 5, 7, 9]"
      ]
     },
     "execution_count": 44,
     "metadata": {},
     "output_type": "execute_result"
    }
   ],
   "source": [
    "l3=[1,2,3,4,5,6,7,8,9,10]\n",
    "list(filter(lambda x: x%2!=0,l3))"
   ]
  },
  {
   "cell_type": "code",
   "execution_count": 46,
   "id": "0cc31e0c-1b9f-4564-a0b1-5ba5427e70ab",
   "metadata": {},
   "outputs": [],
   "source": [
    "l4=[1,2,3,4,5,6,-1,-2,-3,-4,-5,0]\n",
    "positive_list=list(filter(lambda x:x>0,l4))\n",
    "negative_list=list(filter(lambda x:x<0,l4))"
   ]
  },
  {
   "cell_type": "code",
   "execution_count": 47,
   "id": "164c8be8-74c5-4cce-af22-d3faee8fa1dc",
   "metadata": {},
   "outputs": [
    {
     "name": "stdout",
     "output_type": "stream",
     "text": [
      "[1, 2, 3, 4, 5, 6]\n",
      "[-1, -2, -3, -4, -5]\n"
     ]
    }
   ],
   "source": [
    "print(positive_list)\n",
    "print(negative_list)"
   ]
  },
  {
   "cell_type": "code",
   "execution_count": null,
   "id": "da0c6c26-7b5a-4302-9898-d33d17c22b1d",
   "metadata": {},
   "outputs": [],
   "source": []
  }
 ],
 "metadata": {
  "kernelspec": {
   "display_name": "Python 3 (ipykernel)",
   "language": "python",
   "name": "python3"
  },
  "language_info": {
   "codemirror_mode": {
    "name": "ipython",
    "version": 3
   },
   "file_extension": ".py",
   "mimetype": "text/x-python",
   "name": "python",
   "nbconvert_exporter": "python",
   "pygments_lexer": "ipython3",
   "version": "3.10.8"
  }
 },
 "nbformat": 4,
 "nbformat_minor": 5
}
