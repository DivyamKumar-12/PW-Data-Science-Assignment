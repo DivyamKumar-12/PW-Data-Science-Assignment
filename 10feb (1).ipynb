{
 "cells": [
  {
   "cell_type": "markdown",
   "id": "a5f2256c-1ba9-441a-a632-634350cc66f7",
   "metadata": {},
   "source": [
    "## Q1"
   ]
  },
  {
   "cell_type": "markdown",
   "id": "c2cecf6d-ddc0-41b7-a961-df2550c9d281",
   "metadata": {},
   "source": [
    "In Python, the open() function is used to open a file. It takes two arguments: the filename and the mode in which to open the file.\n",
    "\n",
    "Here are the different modes of file opening in Python:\n",
    "\n",
    "Read mode ('r'): This mode is used to read the contents of a file. When a file is opened in read mode, the file pointer is positioned at the beginning of the file.\n",
    "\n",
    "Write mode ('w'): This mode is used to write data to a file. When a file is opened in write mode, any existing data in the file is deleted, and the file pointer is positioned at the beginning of the file. If the file does not exist, a new file is created.\n",
    "\n",
    "Append mode ('a'): This mode is used to append data to the end of a file. When a file is opened in append mode, the file pointer is positioned at the end of the file. If the file does not exist, a new file is created."
   ]
  },
  {
   "cell_type": "markdown",
   "id": "a6c8455e-ffc9-436c-940a-a37a522c1912",
   "metadata": {},
   "source": [
    "Binary mode ('b'): This mode is used to read or write binary data to a file. When a file is opened in binary mode, the data is treated as a sequence of bytes, rather than as text. This mode can be used in combination with the other modes (e.g. 'rb' for reading binary data, 'wb' for writing binary data, etc.).\n",
    "\n",
    "Read and Write mode ('r+'): This mode is used to read and write data to a file. When a file is opened in read and write mode, the file pointer is positioned at the beginning of the file, and any data that is read or written will affect the current file position.\n",
    "\n",
    "Write and Read mode ('w+'): This mode is used to write and read data to a file. When a file is opened in write and read mode, any existing data in the file is deleted, and the file pointer is positioned at the beginning of the file. Any data that is read or written will affect the current file position."
   ]
  },
  {
   "cell_type": "markdown",
   "id": "c48a7d70-d45e-4640-a06f-dca7c4a63d96",
   "metadata": {},
   "source": [
    "## Q2"
   ]
  },
  {
   "cell_type": "markdown",
   "id": "e41c19b4-1c02-406d-8a27-c0e4a166d785",
   "metadata": {},
   "source": [
    "The close() function is used in Python to close an open file. When a file is opened using the open() function, it is important to close the file using the close() function once you are finished working with it.\n",
    "\n",
    "Here are some reasons why it's important to close a file after you're done with it:\n",
    "\n",
    "Save changes: If you have made changes to a file using write or append mode, these changes may not be saved until you close the file. Closing the file ensures that any changes made to the file are saved.\n",
    "\n",
    "Release resources: When a file is opened, system resources are allocated to manage the file. If you don't close the file when you're finished with it, these resources may remain tied up, which can cause issues for other programs that need to access the same resources.\n",
    "\n",
    "Avoid data loss: If a program terminates unexpectedly without closing a file, any data that has not been written to the file may be lost."
   ]
  },
  {
   "cell_type": "markdown",
   "id": "8a669246-5259-4249-968b-3c3dcba7389e",
   "metadata": {},
   "source": [
    "## Q3"
   ]
  },
  {
   "cell_type": "code",
   "execution_count": 10,
   "id": "94b455fc-576b-4db6-a2fe-a444e7b20c92",
   "metadata": {},
   "outputs": [
    {
     "name": "stdout",
     "output_type": "stream",
     "text": [
      "I want to become a Data ScientistI want to become a Data Scientist233\n"
     ]
    }
   ],
   "source": [
    "# open file in write mode\n",
    "file = open(\"data_scientist.txt\", \"w\")\n",
    "\n",
    "# write to the file\n",
    "file.write(\"I want to become a Data Scientist\")\n",
    "file.write(\"I want to become a Data Scientist233\")\n",
    "\n",
    "# close the file\n",
    "file.close()\n",
    "\n",
    "# open file in read mode\n",
    "file = open(\"data_scientist.txt\", \"r\")\n",
    "\n",
    "# read the content of the file\n",
    "content = file.read()\n",
    "file.close()\n",
    "print(content)\n"
   ]
  },
  {
   "cell_type": "markdown",
   "id": "f85d88f0-d38c-4bae-a740-ced4f88c9bbd",
   "metadata": {},
   "source": [
    "## Q4\n"
   ]
  },
  {
   "cell_type": "code",
   "execution_count": 11,
   "id": "513f3c8b-7660-4401-bb9f-7ed7aa005595",
   "metadata": {},
   "outputs": [
    {
     "name": "stdout",
     "output_type": "stream",
     "text": [
      "I want to become a Data ScientistI want to become a Data Scientist233\n"
     ]
    }
   ],
   "source": [
    "# open file in read mode\n",
    "file = open(\"data_scientist.txt\", \"r\")\n",
    "\n",
    "# read the entire contents of the file as a single string\n",
    "content = file.read()\n",
    "\n",
    "# close the file\n",
    "file.close()\n",
    "\n",
    "# print the content of the file\n",
    "print(content)"
   ]
  },
  {
   "cell_type": "markdown",
   "id": "5a2fabc4-1ea2-4144-b945-224d184de46d",
   "metadata": {},
   "source": [
    "In this example, we open a file called example.txt in read mode using the open() function. We then read the entire contents of the file using the read() method and store them in a variable called content. Finally, we close the file using the close() method and print the contents of the file using the print() function."
   ]
  },
  {
   "cell_type": "code",
   "execution_count": 12,
   "id": "be6b24d7-3d3f-415c-9f1f-7f42431df1c5",
   "metadata": {},
   "outputs": [
    {
     "name": "stdout",
     "output_type": "stream",
     "text": [
      "I want to become a Data ScientistI want to become a Data Scientist233\n",
      "\n"
     ]
    }
   ],
   "source": [
    "# open file in read mode\n",
    "\n",
    "file = open(\"data_scientist.txt\", \"r\")\n",
    "\n",
    "# read the first line of the file\n",
    "line1 = file.readline()\n",
    "\n",
    "# read the second line of the file\n",
    "line2 = file.readline()\n",
    "\n",
    "# close the file\n",
    "file.close()\n",
    "\n",
    "# print the contents of the two lines\n",
    "print(line1)\n",
    "print(line2)\n",
    "\n",
    "\n",
    "\n",
    "\n",
    "\n",
    "\n"
   ]
  },
  {
   "cell_type": "markdown",
   "id": "4f5db99f-78b7-4d19-8cbf-a34b3a853e91",
   "metadata": {},
   "source": [
    "In this example, we open a file called example.txt in read mode using the open() function. We then read the first line of the file using the readline() method and store it in a variable called line1. We read the second line of the file using the readline() method again and store it in a variable called line2. Finally, we close the file using the close() method and print the contents of the two lines using the print() function."
   ]
  },
  {
   "cell_type": "code",
   "execution_count": 14,
   "id": "0dee4394-7c34-42a5-94ee-4dbfb997d921",
   "metadata": {},
   "outputs": [
    {
     "name": "stdout",
     "output_type": "stream",
     "text": [
      "['I want to become a Data ScientistI want to become a Data Scientist233']\n"
     ]
    }
   ],
   "source": [
    "# open file in read mode\n",
    "file = open(\"data_scientist.txt\", \"r\")\n",
    "\n",
    "# read all the lines of the file\n",
    "lines = file.readlines()\n",
    "\n",
    "# close the file\n",
    "file.close()\n",
    "\n",
    "# print the contents of the file\n",
    "print(lines)"
   ]
  },
  {
   "cell_type": "markdown",
   "id": "c53bfc78-2095-4811-a3f6-4b31743d0fbe",
   "metadata": {},
   "source": [
    "In this example, we open a file called example.txt in read mode using the open() function. We then read all the lines of the file using the readlines() method and store them in a list called lines. Finally, we close the file using the close() method and print the contents of the file using the print() function."
   ]
  },
  {
   "cell_type": "markdown",
   "id": "c1da2c50-1f0e-4e2b-a71f-1bf2c884b92a",
   "metadata": {},
   "source": [
    "## Q5"
   ]
  },
  {
   "cell_type": "markdown",
   "id": "022c14d9-3c73-46e3-994f-5fb3a76534cd",
   "metadata": {},
   "source": [
    "In Python, the with statement is used to wrap the execution of a block of code with methods defined by a context manager. The open() function is one such context manager that is used to open files. When we use the with statement with open(), we ensure that the file is automatically closed when the block of code inside the with statement is exited, whether normally or due to an exception."
   ]
  },
  {
   "cell_type": "code",
   "execution_count": 15,
   "id": "c4594fe3-8bfc-42f8-bdad-039426c9c492",
   "metadata": {},
   "outputs": [
    {
     "name": "stdout",
     "output_type": "stream",
     "text": [
      "I want to become a Data ScientistI want to become a Data Scientist233\n"
     ]
    }
   ],
   "source": [
    "# using with statement with open()\n",
    "with open(\"data_scientist.txt\", 'r') as file:\n",
    "    content = file.read()\n",
    "    print(content)"
   ]
  },
  {
   "cell_type": "markdown",
   "id": "0a2ff5ba-3085-4a5e-96a3-1888f0ef4a17",
   "metadata": {},
   "source": [
    "In this example, we use the with statement with the open() function to open a file called example.txt in read mode. We then read the contents of the file using the read() method and store them in a variable called content. The advantage of using the with statement with open() is that we don't have to explicitly close the file using the close() method. The with statement takes care of this automatically when the block of code is exited. This ensures that the file is always properly closed, even in the case of an exception"
   ]
  },
  {
   "cell_type": "markdown",
   "id": "66705d61-b83f-45bb-b594-06e864e1ba5e",
   "metadata": {},
   "source": [
    "## Q6"
   ]
  },
  {
   "cell_type": "markdown",
   "id": "044647b3-c5b4-4c71-be17-faa9797dceb4",
   "metadata": {},
   "source": [
    "In Python, the write() and writelines() functions are used to write data to a file.\n",
    "\n",
    "The write() function is used to write a single string to a file. Here's an example:"
   ]
  },
  {
   "cell_type": "code",
   "execution_count": 16,
   "id": "0e60c5cc-fff7-48ff-99e4-ad1e8d9bae34",
   "metadata": {},
   "outputs": [],
   "source": [
    "# writing a single string to a file\n",
    "with open('example.txt', 'w') as file:\n",
    "    file.write('I want to become a Data Scientist.')"
   ]
  },
  {
   "cell_type": "markdown",
   "id": "47b4edd1-d72e-4b99-910f-da2627c7cf92",
   "metadata": {},
   "source": [
    "In this example, we use the with statement with the open() function to open a file called example.txt in write mode. We then use the write() method to write a single string to the file."
   ]
  },
  {
   "cell_type": "code",
   "execution_count": 17,
   "id": "eb96a593-9f5a-409d-9d21-45050aa42022",
   "metadata": {},
   "outputs": [],
   "source": [
    "# writing multiple strings to a file\n",
    "with open('example.txt', 'w') as file:\n",
    "    lines = ['I want to become a Data Scientist.', 'This is my dream job.']\n",
    "    file.writelines(lines)"
   ]
  },
  {
   "cell_type": "markdown",
   "id": "2d5068ab-e671-4288-972b-bbbcd2527259",
   "metadata": {},
   "source": [
    "In this example, we use the with statement with the open() function to open a file called example.txt in write mode. We then define a list called lines that contains multiple strings, and use the writelines() method to write these strings to the file."
   ]
  },
  {
   "cell_type": "code",
   "execution_count": null,
   "id": "c343d8d9-3db2-4838-b38a-be0a7cdd62d7",
   "metadata": {},
   "outputs": [],
   "source": []
  }
 ],
 "metadata": {
  "kernelspec": {
   "display_name": "Python 3 (ipykernel)",
   "language": "python",
   "name": "python3"
  },
  "language_info": {
   "codemirror_mode": {
    "name": "ipython",
    "version": 3
   },
   "file_extension": ".py",
   "mimetype": "text/x-python",
   "name": "python",
   "nbconvert_exporter": "python",
   "pygments_lexer": "ipython3",
   "version": "3.10.8"
  }
 },
 "nbformat": 4,
 "nbformat_minor": 5
}
