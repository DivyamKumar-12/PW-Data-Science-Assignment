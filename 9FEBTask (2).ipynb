{
 "cells": [
  {
   "cell_type": "markdown",
   "id": "3a060a5c-29d0-4e52-8be0-f7f54a6d513c",
   "metadata": {},
   "source": [
    "## Q1"
   ]
  },
  {
   "cell_type": "code",
   "execution_count": 1,
   "id": "574b10a0-366b-458d-bdf3-3801ad6d793e",
   "metadata": {},
   "outputs": [],
   "source": [
    "class vehicle:\n",
    "    def __init__(self,name_of_vehicle,max_speed,average_of_vehicle):\n",
    "        self.name_of_vehicle=name_of_vehicle\n",
    "        self.max_speed=max_speed\n",
    "        self.average_of_vehicle=average_of_vehicle"
   ]
  },
  {
   "cell_type": "code",
   "execution_count": 4,
   "id": "cb6d4e48-3ca4-4dec-af3b-8c888bc3f77e",
   "metadata": {},
   "outputs": [],
   "source": [
    "obj_vehicle=vehicle('BMWRX20',2928982,2333)"
   ]
  },
  {
   "cell_type": "code",
   "execution_count": 6,
   "id": "77a94e77-de23-451f-8370-88e7aaa772d3",
   "metadata": {},
   "outputs": [
    {
     "data": {
      "text/plain": [
       "2928982"
      ]
     },
     "execution_count": 6,
     "metadata": {},
     "output_type": "execute_result"
    }
   ],
   "source": [
    "obj_vehicle.max_speed"
   ]
  },
  {
   "cell_type": "markdown",
   "id": "544d175c-125a-4a9f-8393-5d423458f348",
   "metadata": {},
   "source": [
    "## Q2"
   ]
  },
  {
   "cell_type": "code",
   "execution_count": 29,
   "id": "b472ee79-8d48-422f-be60-735984d29fd9",
   "metadata": {},
   "outputs": [],
   "source": [
    "class car(vehicle):\n",
    "    def seating_capacity(self,capacity):\n",
    "        return self.name_of_vehicle, capacity\n",
    "        "
   ]
  },
  {
   "cell_type": "code",
   "execution_count": 30,
   "id": "3886558b-5c9c-40e9-8fdb-bd138585de18",
   "metadata": {},
   "outputs": [],
   "source": [
    "obj_car=car('Bmw',3332,211)"
   ]
  },
  {
   "cell_type": "code",
   "execution_count": 31,
   "id": "53e24cb6-d650-4bbb-8b3c-410d98f99a7c",
   "metadata": {},
   "outputs": [
    {
     "data": {
      "text/plain": [
       "('Bmw', 6)"
      ]
     },
     "execution_count": 31,
     "metadata": {},
     "output_type": "execute_result"
    }
   ],
   "source": [
    "obj_car.seating_capacity(6)"
   ]
  },
  {
   "cell_type": "markdown",
   "id": "821f9dbb-c43e-4189-8171-91926ec39d46",
   "metadata": {},
   "source": [
    "## Q3"
   ]
  },
  {
   "cell_type": "markdown",
   "id": "ce5a3416-fb9e-40ac-aab5-a7646df289ac",
   "metadata": {},
   "source": [
    "When a class is derived from more than one base class it is called multiple inheritance. The derived class inherits all the features of the base class"
   ]
  },
  {
   "cell_type": "code",
   "execution_count": 32,
   "id": "71c04de2-b34a-485f-8d66-7cf72d068a1e",
   "metadata": {},
   "outputs": [],
   "source": [
    "class class1:\n",
    "    def test_class1(self):\n",
    "        print(\"This is first class\")"
   ]
  },
  {
   "cell_type": "code",
   "execution_count": 33,
   "id": "bcb70305-02d0-4b7e-9a8d-cb3345f44150",
   "metadata": {},
   "outputs": [],
   "source": [
    "class class2(class1):\n",
    "    def test_class2(self):\n",
    "        print(\"This is 2nd class\")"
   ]
  },
  {
   "cell_type": "code",
   "execution_count": 34,
   "id": "72d86ab8-c24f-4de3-8101-f94b7436e0d0",
   "metadata": {},
   "outputs": [],
   "source": [
    "class class3(class2):\n",
    "    def test_class3(self):\n",
    "        print(\"This is 3rd class\")"
   ]
  },
  {
   "cell_type": "code",
   "execution_count": 35,
   "id": "5e23e226-8e08-449c-a4fb-1aa5950bbe49",
   "metadata": {},
   "outputs": [],
   "source": [
    "obj_class3=class3()"
   ]
  },
  {
   "cell_type": "code",
   "execution_count": 36,
   "id": "bcc0c28a-b814-4d88-abf9-0de6849361b0",
   "metadata": {},
   "outputs": [
    {
     "name": "stdout",
     "output_type": "stream",
     "text": [
      "This is 2nd class\n"
     ]
    }
   ],
   "source": [
    "obj_class3.test_class2()"
   ]
  },
  {
   "cell_type": "code",
   "execution_count": 37,
   "id": "4f6cbec5-6d62-4309-9384-fc5e7e0b9af7",
   "metadata": {},
   "outputs": [
    {
     "name": "stdout",
     "output_type": "stream",
     "text": [
      "This is 3rd class\n"
     ]
    }
   ],
   "source": [
    "obj_class3.test_class3()"
   ]
  },
  {
   "cell_type": "markdown",
   "id": "ccd9f42b-06bb-4bae-a9d7-69024464f084",
   "metadata": {},
   "source": [
    "## Q4"
   ]
  },
  {
   "cell_type": "markdown",
   "id": "85160107-6d28-4e92-ab6c-9b62f3b54574",
   "metadata": {},
   "source": [
    "Getters and Setters are method used to access and modify the value of class attributes.They are typically used to provide a way to perform some operation every time an attribute is accessed or modified "
   ]
  },
  {
   "cell_type": "code",
   "execution_count": 41,
   "id": "3392598b-e162-462e-bc50-a4171729b36f",
   "metadata": {},
   "outputs": [],
   "source": [
    "class car:\n",
    "    def __init__(self,year,make,model,speed):\n",
    "        self.__year=year\n",
    "        self.__make=make\n",
    "        self.__model=model\n",
    "        self.__speed=0\n",
    "    def set_speed(self,speed):\n",
    "        self._speed=0 if speed<0 else speed\n",
    "    def get_speed(self):\n",
    "        return self._speed"
   ]
  },
  {
   "cell_type": "code",
   "execution_count": 43,
   "id": "0710a54c-238b-4029-9ea7-aee4ea1ddedd",
   "metadata": {},
   "outputs": [],
   "source": [
    "obj_car=car(2022,'toyota','innova',12)"
   ]
  },
  {
   "cell_type": "code",
   "execution_count": 44,
   "id": "0818721f-4ba9-479d-89f6-c7553fd2db44",
   "metadata": {},
   "outputs": [],
   "source": [
    "obj_car.set_speed(1232)"
   ]
  },
  {
   "cell_type": "code",
   "execution_count": 45,
   "id": "aab6f8f9-0cd5-4030-80d6-6718462ae78d",
   "metadata": {},
   "outputs": [
    {
     "data": {
      "text/plain": [
       "1232"
      ]
     },
     "execution_count": 45,
     "metadata": {},
     "output_type": "execute_result"
    }
   ],
   "source": [
    "obj_car.get_speed()"
   ]
  },
  {
   "cell_type": "code",
   "execution_count": null,
   "id": "09b0fa01-c439-4d53-9aa4-b8bea790c2e0",
   "metadata": {},
   "outputs": [],
   "source": []
  },
  {
   "cell_type": "markdown",
   "id": "175a32e3-647d-4419-8340-fe9f3ef86d62",
   "metadata": {},
   "source": [
    "## Q5"
   ]
  },
  {
   "cell_type": "markdown",
   "id": "751c5eee-6406-482d-91d2-227ed471c62f",
   "metadata": {},
   "source": [
    "Mehod overriding in python is a feature that allows a subclass to provide a different implementation for a method that is already defined in its superclass"
   ]
  },
  {
   "cell_type": "code",
   "execution_count": 46,
   "id": "5c4025a0-f9a4-43a2-ba3c-0a2c3e621919",
   "metadata": {},
   "outputs": [],
   "source": [
    "class person:\n",
    "    def __init__(self,name):\n",
    "        self.name=name"
   ]
  },
  {
   "cell_type": "code",
   "execution_count": 48,
   "id": "6f3fa988-45b4-49f0-a74c-01e07b9dcf65",
   "metadata": {},
   "outputs": [],
   "source": [
    "class person1(person):\n",
    "    def __init__(self,name,age):\n",
    "        person.__init__(self,name)\n",
    "        self.age=age"
   ]
  },
  {
   "cell_type": "code",
   "execution_count": 50,
   "id": "03907163-cfb5-48dc-aa79-4f4c3ada8a0a",
   "metadata": {},
   "outputs": [],
   "source": [
    "obj_person1=person1('divy',19)"
   ]
  },
  {
   "cell_type": "code",
   "execution_count": 51,
   "id": "c9191889-1a68-436d-b1bd-adba5030abfe",
   "metadata": {},
   "outputs": [
    {
     "data": {
      "text/plain": [
       "'divy'"
      ]
     },
     "execution_count": 51,
     "metadata": {},
     "output_type": "execute_result"
    }
   ],
   "source": [
    "obj_person1.name"
   ]
  },
  {
   "cell_type": "code",
   "execution_count": null,
   "id": "03578eb8-627d-44f5-94a3-5215f44f8f1c",
   "metadata": {},
   "outputs": [],
   "source": []
  }
 ],
 "metadata": {
  "kernelspec": {
   "display_name": "Python 3 (ipykernel)",
   "language": "python",
   "name": "python3"
  },
  "language_info": {
   "codemirror_mode": {
    "name": "ipython",
    "version": 3
   },
   "file_extension": ".py",
   "mimetype": "text/x-python",
   "name": "python",
   "nbconvert_exporter": "python",
   "pygments_lexer": "ipython3",
   "version": "3.10.8"
  }
 },
 "nbformat": 4,
 "nbformat_minor": 5
}
