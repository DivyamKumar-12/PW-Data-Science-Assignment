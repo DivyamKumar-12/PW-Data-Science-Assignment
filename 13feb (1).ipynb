{
 "cells": [
  {
   "cell_type": "markdown",
   "id": "5ceef344-ec38-4264-ad98-26b43d40c6d3",
   "metadata": {},
   "source": [
    "## Q1"
   ]
  },
  {
   "cell_type": "markdown",
   "id": "e64c4d2a-747a-4979-bda2-c8dd6b5b7ebc",
   "metadata": {},
   "source": [
    "In Python, the Exception class is the base class for all built-in exceptions. When we create a custom exception, we typically want it to inherit from the Exception class. This is because the Exception class provides a basic structure and behavior for all exceptions, such as a message string that can be passed as an argument when raising the exception.\n",
    "\n",
    "By inheriting from the Exception class, our custom exception inherits all the behavior and properties of the base Exception class. This allows us to use our custom exception in the same way as the built-in exceptions. For example, we can catch our custom exception using a try...except block just like any other exception."
   ]
  },
  {
   "cell_type": "markdown",
   "id": "7a967081-3747-47c7-9516-382c459e7305",
   "metadata": {},
   "source": [
    "## Q2"
   ]
  },
  {
   "cell_type": "code",
   "execution_count": 1,
   "id": "40692bd8-85de-4a74-8e7a-3f383ce25296",
   "metadata": {},
   "outputs": [
    {
     "name": "stdout",
     "output_type": "stream",
     "text": [
      "BaseException\n",
      "object\n"
     ]
    }
   ],
   "source": [
    "import sys\n",
    "\n",
    "# get the base exception class\n",
    "exception_class = BaseException\n",
    "\n",
    "# loop through the exception hierarchy and print each exception class\n",
    "while exception_class is not None:\n",
    "    print(exception_class.__name__)\n",
    "    exception_class = exception_class.__base__"
   ]
  },
  {
   "cell_type": "markdown",
   "id": "e83c864d-6a2d-45eb-83e0-fa2229e7a40d",
   "metadata": {},
   "source": [
    "In this program, we start by importing the sys module, which contains the base exception class. We then set the exception_class variable to BaseException, which is the top-level exception class in Python.\n",
    "\n",
    "Next, we use a while loop to loop through the exception hierarchy. On each iteration of the loop, we print the name of the current exception class using the __name__ attribute. We then set the exception_class variable to the base class of the current exception class using the __base__ attribute.\n",
    "\n",
    "The loop continues until we reach the end of the exception hierarchy, which is indicated by the exception_class variable being set to None.\n",
    "\n",
    "When we run this program, we'll see a list of all the exception classes in the Python Exception Hierarchy, starting with BaseException and ending with object."
   ]
  },
  {
   "cell_type": "markdown",
   "id": "08a260c3-1627-46b4-bec4-c46dd1882d85",
   "metadata": {},
   "source": [
    "## Q3"
   ]
  },
  {
   "cell_type": "markdown",
   "id": "dc418062-8b94-41e2-b4d6-10b31b3eaa21",
   "metadata": {},
   "source": [
    "The ArithmeticError class in Python is a base class for errors that occur during arithmetic operations. It inherits from the Exception class and is itself a base class for more specific arithmetic error classes.\n",
    "\n",
    "Here are two examples of errors that are defined in the ArithmeticError class:\n",
    "\n",
    "ZeroDivisionError: This error is raised when attempting to divide by zero. For example:\n",
    "\n",
    "\n",
    "### Example 1, \n",
    "we attempt to divide the variable a by zero and store the result in the variable c. Since division by zero is undefined, a ZeroDivisionError is raised. We catch the error using a try...except block and print the error message.\n",
    "\n",
    "OverflowError: This error is raised when a calculation produces a result that is too large to be represented. For example:\n",
    "\n",
    "\n",
    "### Example 2, \n",
    "we attempt to calculate the exponential of the number 1000 using the math.exp() function. However, the result is too large to be represented as a floating-point number, so an OverflowError is raised. We catch the error using a try...except block and print the error message.\n",
    "\n",
    "Overall, the ArithmeticError class and its subclasses provide a way to catch and handle errors that occur during arithmetic operations, such as division by zero or overflow."
   ]
  },
  {
   "cell_type": "markdown",
   "id": "a2e40383-4cc3-4818-a210-63b924f7c7e7",
   "metadata": {
    "tags": []
   },
   "source": [
    "## Example 1"
   ]
  },
  {
   "cell_type": "code",
   "execution_count": 3,
   "id": "ed6fdf88-aa3c-4f43-8580-6a6c9548b5d4",
   "metadata": {},
   "outputs": [
    {
     "name": "stdout",
     "output_type": "stream",
     "text": [
      "division by zero\n"
     ]
    }
   ],
   "source": [
    "a = 10\n",
    "b = 0\n",
    "try:\n",
    "    c = a / b\n",
    "except ZeroDivisionError as e:\n",
    "    print(e)"
   ]
  },
  {
   "cell_type": "markdown",
   "id": "bc807cb9-4b01-451d-aa91-c7b5e9793aa4",
   "metadata": {},
   "source": [
    "## Example 2"
   ]
  },
  {
   "cell_type": "code",
   "execution_count": 4,
   "id": "88986f17-751c-43e7-9cab-8fe224f80c96",
   "metadata": {},
   "outputs": [
    {
     "name": "stdout",
     "output_type": "stream",
     "text": [
      "math range error\n"
     ]
    }
   ],
   "source": [
    "import math\n",
    "try:\n",
    "    x = math.exp(1000)\n",
    "except OverflowError as e:\n",
    "    print(e)\n",
    "    "
   ]
  },
  {
   "cell_type": "markdown",
   "id": "e1c7008e-c9d0-49da-9633-ea7703c900d2",
   "metadata": {},
   "source": [
    "## Q4"
   ]
  },
  {
   "cell_type": "markdown",
   "id": "1873e670-f3aa-4ef2-b2f3-b4a5d4b74be1",
   "metadata": {},
   "source": [
    "The LookupError class in Python is a base class for errors that occur when looking up a value in a collection, such as a list or dictionary. It is itself a base class for more specific lookup error classes.\n",
    "\n",
    "Here are two examples of lookup errors that are subclasses of LookupError:\n",
    "\n",
    "KeyError: This error is raised when attempting to access a key in a dictionary that does not exist. For example:"
   ]
  },
  {
   "cell_type": "code",
   "execution_count": 6,
   "id": "a5cfecb4-7074-48c4-ba25-f7517675adfc",
   "metadata": {},
   "outputs": [
    {
     "name": "stdout",
     "output_type": "stream",
     "text": [
      "'c'\n"
     ]
    }
   ],
   "source": [
    "d = {'a': 1, 'b': 2}\n",
    "try:\n",
    "    value = d['c']\n",
    "except KeyError as e:\n",
    "    print(e)"
   ]
  },
  {
   "cell_type": "markdown",
   "id": "71ef62df-f1a4-47c7-a2a2-5f44d06bf86a",
   "metadata": {},
   "source": [
    "IndexError: This error is raised when attempting to access an element in a list using an index that is out of range. For example:"
   ]
  },
  {
   "cell_type": "code",
   "execution_count": 7,
   "id": "5531a67c-e91c-43e5-a561-a7dd9c6e6d4c",
   "metadata": {},
   "outputs": [
    {
     "name": "stdout",
     "output_type": "stream",
     "text": [
      "list index out of range\n"
     ]
    }
   ],
   "source": [
    "l = [1, 2, 3]\n",
    "try:\n",
    "    value = l[3]\n",
    "except IndexError as e:\n",
    "    print(e)"
   ]
  },
  {
   "cell_type": "markdown",
   "id": "41a2ab09-5b50-4547-bb5c-bfc208a036fe",
   "metadata": {},
   "source": [
    "## Q5"
   ]
  },
  {
   "cell_type": "markdown",
   "id": "8595afc1-95a3-4fcc-9d91-c8f3dcdef29c",
   "metadata": {},
   "source": [
    "ImportError is a built-in Python exception that is raised when an imported module or package cannot be found or loaded. It can occur due to various reasons such as incorrect module name, missing dependencies, or syntax errors in the imported module.\n",
    "\n",
    "ModuleNotFoundError is a subclass of ImportError that is specifically raised when a module is not found. It was introduced in Python 3.6 as a more specific error message when a module is not found. Prior to Python 3.6, ImportError was used for all cases when an imported module or package could not be found."
   ]
  },
  {
   "cell_type": "code",
   "execution_count": 8,
   "id": "46045f4e-8a9f-4627-91eb-c537a07a03a1",
   "metadata": {},
   "outputs": [
    {
     "name": "stdout",
     "output_type": "stream",
     "text": [
      "No module named 'non_existent_module'\n"
     ]
    }
   ],
   "source": [
    "try:\n",
    "    import non_existent_module\n",
    "except ModuleNotFoundError as e:\n",
    "    print(e)"
   ]
  },
  {
   "cell_type": "markdown",
   "id": "fed229e8-a575-4f66-94ff-a4c97b5e5a57",
   "metadata": {},
   "source": [
    "Overall, both ImportError and ModuleNotFoundError are used to handle errors that occur during the import process of modules or packages. While ImportError is a general error for any import-related issues, ModuleNotFoundError is a more specific error message for cases where a module cannot be found."
   ]
  },
  {
   "cell_type": "markdown",
   "id": "40856039-99a4-443c-a198-3f713e1f0747",
   "metadata": {},
   "source": [
    "## Q6"
   ]
  },
  {
   "cell_type": "markdown",
   "id": "06bece60-24a1-4d1c-b55c-61060b8d8c64",
   "metadata": {},
   "source": [
    "Here are some best practices for exception handling in Python:\n",
    "\n",
    "Be specific in handling exceptions: Avoid using bare except clauses that catch all exceptions, as it can mask errors and make it harder to debug. Instead, be specific and only catch the exceptions you need to handle.\n",
    "\n",
    "Use try-except blocks judiciously: Use try-except blocks only where necessary. Don't use them for control flow, as it can make the code harder to read and maintain.\n",
    "\n",
    "Use finally block: Always use a finally block after a try-except block if you need to perform cleanup actions, such as closing files or releasing resources.\n",
    "\n",
    "Don't raise unnecessary exceptions: Don't raise exceptions that are not needed. Raise an exception only when you need to communicate an error condition to the calling code.\n",
    "\n",
    "Use built-in exceptions where possible: Use built-in exceptions, such as ValueError and TypeError, whenever possible. Don't create custom exceptions unless necessary.\n",
    "\n",
    "Document exceptions: Document the exceptions that can be raised by your code, and include information on how to handle them.\n",
    "\n",
    "Use context managers: Use context managers, such as the \"with\" statement, to automatically close resources like files and sockets when they are no longer needed.\n",
    "\n",
    "Log exceptions: Use logging to record exceptions and errors, along with relevant information like the stack trace and any inputs that caused the exception."
   ]
  },
  {
   "cell_type": "code",
   "execution_count": null,
   "id": "7e93f299-a522-4747-ba3e-4f676d6e9fa0",
   "metadata": {},
   "outputs": [],
   "source": []
  },
  {
   "cell_type": "code",
   "execution_count": null,
   "id": "0f57df9a-35af-4c42-9c1d-d89e53503088",
   "metadata": {},
   "outputs": [],
   "source": []
  },
  {
   "cell_type": "code",
   "execution_count": null,
   "id": "684a7c6e-6d07-483e-8e49-d286a37b99a4",
   "metadata": {},
   "outputs": [],
   "source": []
  },
  {
   "cell_type": "code",
   "execution_count": null,
   "id": "e41174e5-3c5a-49fa-9b08-6653cc5fdb1e",
   "metadata": {},
   "outputs": [],
   "source": []
  },
  {
   "cell_type": "code",
   "execution_count": null,
   "id": "2c7ab883-fe85-4298-a2dd-0772c12ace63",
   "metadata": {},
   "outputs": [],
   "source": []
  },
  {
   "cell_type": "code",
   "execution_count": null,
   "id": "26982622-8c10-4250-866c-4f1611afc15c",
   "metadata": {},
   "outputs": [],
   "source": []
  },
  {
   "cell_type": "code",
   "execution_count": null,
   "id": "a3cc8c19-33e6-45ce-af57-4bf91c422cab",
   "metadata": {},
   "outputs": [],
   "source": []
  },
  {
   "cell_type": "code",
   "execution_count": null,
   "id": "fc1a5a9b-4c83-4d45-91c4-2121710b2883",
   "metadata": {},
   "outputs": [],
   "source": []
  },
  {
   "cell_type": "code",
   "execution_count": null,
   "id": "b7573bb5-8a12-49f4-bcb0-d48e71333561",
   "metadata": {},
   "outputs": [],
   "source": []
  },
  {
   "cell_type": "code",
   "execution_count": null,
   "id": "5b1cd139-ca41-404f-ae7b-0b2000ff6c97",
   "metadata": {},
   "outputs": [],
   "source": []
  },
  {
   "cell_type": "code",
   "execution_count": null,
   "id": "e68d4059-ebeb-4d1f-a7a7-8391eb5dfbb8",
   "metadata": {},
   "outputs": [],
   "source": []
  },
  {
   "cell_type": "code",
   "execution_count": null,
   "id": "18acca2d-b472-4501-94ca-75fdd1823f88",
   "metadata": {},
   "outputs": [],
   "source": []
  },
  {
   "cell_type": "code",
   "execution_count": null,
   "id": "09bd887b-ded4-4747-9baf-685733f21c5e",
   "metadata": {},
   "outputs": [],
   "source": []
  }
 ],
 "metadata": {
  "kernelspec": {
   "display_name": "Python 3 (ipykernel)",
   "language": "python",
   "name": "python3"
  },
  "language_info": {
   "codemirror_mode": {
    "name": "ipython",
    "version": 3
   },
   "file_extension": ".py",
   "mimetype": "text/x-python",
   "name": "python",
   "nbconvert_exporter": "python",
   "pygments_lexer": "ipython3",
   "version": "3.10.8"
  }
 },
 "nbformat": 4,
 "nbformat_minor": 5
}
