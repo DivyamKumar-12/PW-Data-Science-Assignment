{
 "cells": [
  {
   "cell_type": "markdown",
   "id": "227b0e1a-ff8f-4e21-9797-a1278984dc10",
   "metadata": {},
   "source": [
    "#### 5 FEB ASSIGNMENT"
   ]
  },
  {
   "cell_type": "markdown",
   "id": "0b34aaac-24ed-4531-bc02-7108ad938b23",
   "metadata": {},
   "source": [
    "#### Q1"
   ]
  },
  {
   "cell_type": "markdown",
   "id": "67ed7fbf-10a5-4dac-a6d9-8deff3052e6b",
   "metadata": {},
   "source": [
    "A class is template for creating objects and objects are created from classes, and each object is said to be an instance of the class from which it was created\n",
    "For example consider a class 'car' .A car class could have attributes such as make,model,year and color and behaviour such as start drive and stop. An object of the car class would be a specific car, such as Toyata.this car would have its own unique values.\n",
    "In OOP, classes and objects are used to model real-world objects and their properties and actions,making it easier to understand and organize complex systems."
   ]
  },
  {
   "cell_type": "markdown",
   "id": "0ddf7144-913e-4dd5-a711-001dfb5180e9",
   "metadata": {},
   "source": [
    "#### Q2"
   ]
  },
  {
   "cell_type": "markdown",
   "id": "f8f212e2-ec3b-48bc-856f-c4e03e35c747",
   "metadata": {},
   "source": [
    "The four pillars of OOP are\n",
    "1.Abstraction\n",
    "2.Encapsulation\n",
    "3.Inheritance\n",
    "4.Polymorphism"
   ]
  },
  {
   "cell_type": "markdown",
   "id": "f5220284-b57e-4913-b243-6551fc361f8e",
   "metadata": {},
   "source": [
    "#### Q3"
   ]
  },
  {
   "cell_type": "markdown",
   "id": "067421c7-64fe-4708-b882-72e34f7e7c1f",
   "metadata": {},
   "source": [
    "The __init__ method is known constructor.It is automatically called when an object of a class is created, and it is used to initialize the attributes of the object with the values passes as arguments"
   ]
  },
  {
   "cell_type": "code",
   "execution_count": 5,
   "id": "c1fc2c57-1547-4809-bdda-56e41098988c",
   "metadata": {},
   "outputs": [],
   "source": [
    "class pw:\n",
    "    \n",
    "    def __init__(self ,phone_number ,email_id ,student_id):\n",
    "        self.phone_number = phone_number\n",
    "        self.email_id = email_id\n",
    "        self.student_id = student_id\n",
    "        \n",
    "    def return_student_details(self):\n",
    "        return self.phone_number ,self.email_id, self.student_id"
   ]
  },
  {
   "cell_type": "code",
   "execution_count": 6,
   "id": "1da66fa8-ce28-4028-894f-b6f695b9eab8",
   "metadata": {},
   "outputs": [],
   "source": [
    "rohan=pw(9048288245,'rohan12@gmail,com',992)\n"
   ]
  },
  {
   "cell_type": "code",
   "execution_count": 7,
   "id": "c5d729ea-2241-45ac-bfb7-8044a8a017c6",
   "metadata": {},
   "outputs": [
    {
     "data": {
      "text/plain": [
       "(9048288245, 'rohan12@gmail,com', 992)"
      ]
     },
     "execution_count": 7,
     "metadata": {},
     "output_type": "execute_result"
    }
   ],
   "source": [
    "rohan.return_student_details()"
   ]
  },
  {
   "cell_type": "markdown",
   "id": "9e0f8502-6090-47a3-9bd8-335bd21036da",
   "metadata": {},
   "source": [
    "#### Q4"
   ]
  },
  {
   "cell_type": "markdown",
   "id": "e74c018f-820a-4fb2-9659-0be44d88a696",
   "metadata": {},
   "source": [
    "The self variable is used to represent the instance of the class which is often used in object-oriented programming.It works as a reference to the object."
   ]
  },
  {
   "cell_type": "markdown",
   "id": "ec4e3f2c-b885-4cc2-8d24-3400c5c29e21",
   "metadata": {},
   "source": [
    "#### Q5"
   ]
  },
  {
   "cell_type": "markdown",
   "id": "500ccd6e-6658-42b1-a71f-026a9d3ef1ec",
   "metadata": {},
   "source": [
    "Inheritance in python is a future that allows one class to inherit attributes and methods from another class.This results in a new class that is a modified version of the original class.\n",
    "There are three types of inheritance in python"
   ]
  },
  {
   "cell_type": "markdown",
   "id": "8f78e3f3-5ca1-4f57-9950-912710bf0669",
   "metadata": {},
   "source": [
    "1.Single inheritance\n",
    "2.Multiple inheritance\n",
    "3.Multi level inheritance"
   ]
  },
  {
   "cell_type": "code",
   "execution_count": null,
   "id": "0e24cc44-c14d-4916-a87d-578b626fa9da",
   "metadata": {},
   "outputs": [],
   "source": []
  }
 ],
 "metadata": {
  "kernelspec": {
   "display_name": "Python 3 (ipykernel)",
   "language": "python",
   "name": "python3"
  },
  "language_info": {
   "codemirror_mode": {
    "name": "ipython",
    "version": 3
   },
   "file_extension": ".py",
   "mimetype": "text/x-python",
   "name": "python",
   "nbconvert_exporter": "python",
   "pygments_lexer": "ipython3",
   "version": "3.10.8"
  }
 },
 "nbformat": 4,
 "nbformat_minor": 5
}
